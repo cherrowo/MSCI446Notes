{
 "cells": [
  {
   "cell_type": "markdown",
   "metadata": {},
   "source": [
    "# Week 2: Exercises\n",
    "\n",
    "In this tutorial file, you will learn \n",
    "- Extracting basic information about distribution of variables\n",
    "- Handling categorical variables\n",
    "- Handling outliers\n",
    "- Data standardization"
   ]
  },
  {
   "cell_type": "code",
   "execution_count": 3,
   "metadata": {
    "id": "Kowxe0aIoLs1"
   },
   "outputs": [],
   "source": [
    "import pandas as pd\n",
    "import numpy as np"
   ]
  },
  {
   "cell_type": "markdown",
   "metadata": {},
   "source": [
    "Let's import and explore the data file \"hc_train.csv\":"
   ]
  },
  {
   "cell_type": "code",
   "execution_count": 5,
   "metadata": {
    "colab": {
     "base_uri": "https://localhost:8080/"
    },
    "id": "EeYJlpoKoYD6",
    "outputId": "c0b198cb-de26-485d-a627-02af9604d3aa"
   },
   "outputs": [
    {
     "name": "stdout",
     "output_type": "stream",
     "text": [
      "<class 'pandas.core.frame.DataFrame'>\n",
      "RangeIndex: 51238 entries, 0 to 51237\n",
      "Data columns (total 19 columns):\n",
      " #   Column                             Non-Null Count  Dtype  \n",
      "---  ------                             --------------  -----  \n",
      " 0   Unnamed: 0                         51238 non-null  int64  \n",
      " 1   case_id                            51238 non-null  int64  \n",
      " 2   Hospital_code                      51238 non-null  int64  \n",
      " 3   Hospital_type_code                 51238 non-null  object \n",
      " 4   City_Code_Hospital                 51238 non-null  int64  \n",
      " 5   Hospital_region_code               51238 non-null  object \n",
      " 6   Available Extra Rooms in Hospital  51238 non-null  int64  \n",
      " 7   Department                         51238 non-null  object \n",
      " 8   Ward_Type                          51238 non-null  object \n",
      " 9   Ward_Facility_Code                 51238 non-null  object \n",
      " 10  Bed Grade                          51214 non-null  float64\n",
      " 11  patientid                          51238 non-null  int64  \n",
      " 12  City_Code_Patient                  50488 non-null  float64\n",
      " 13  Type of Admission                  51238 non-null  object \n",
      " 14  Severity of Illness                51238 non-null  object \n",
      " 15  Visitors with Patient              51238 non-null  int64  \n",
      " 16  Age                                51238 non-null  object \n",
      " 17  Admission_Deposit                  51238 non-null  float64\n",
      " 18  Stay                               51238 non-null  object \n",
      "dtypes: float64(3), int64(7), object(9)\n",
      "memory usage: 7.4+ MB\n"
     ]
    }
   ],
   "source": [
    "hc = pd.read_csv('hc_train.csv')\n",
    "\n",
    "## Summarize with .info()\n",
    "hc.info()"
   ]
  },
  {
   "cell_type": "code",
   "execution_count": 7,
   "metadata": {},
   "outputs": [
    {
     "data": {
      "text/plain": [
       "(51238, 19)"
      ]
     },
     "execution_count": 7,
     "metadata": {},
     "output_type": "execute_result"
    }
   ],
   "source": [
    "## Shape?\n",
    "hc.shape"
   ]
  },
  {
   "cell_type": "code",
   "execution_count": 8,
   "metadata": {},
   "outputs": [
    {
     "data": {
      "text/plain": [
       "Unnamed: 0                             0\n",
       "case_id                                0\n",
       "Hospital_code                          0\n",
       "Hospital_type_code                     0\n",
       "City_Code_Hospital                     0\n",
       "Hospital_region_code                   0\n",
       "Available Extra Rooms in Hospital      0\n",
       "Department                             0\n",
       "Ward_Type                              0\n",
       "Ward_Facility_Code                     0\n",
       "Bed Grade                             24\n",
       "patientid                              0\n",
       "City_Code_Patient                    750\n",
       "Type of Admission                      0\n",
       "Severity of Illness                    0\n",
       "Visitors with Patient                  0\n",
       "Age                                    0\n",
       "Admission_Deposit                      0\n",
       "Stay                                   0\n",
       "dtype: int64"
      ]
     },
     "execution_count": 8,
     "metadata": {},
     "output_type": "execute_result"
    }
   ],
   "source": [
    "## Count NAs for each column\n",
    "hc.isna().sum()"
   ]
  },
  {
   "cell_type": "markdown",
   "metadata": {},
   "source": [
    "## A Closer Look into Data\n",
    "\n",
    "Before starting our analysis, it is important to know the data columns and the actual content. We can print the first 5 rows with `.head()` method:"
   ]
  },
  {
   "cell_type": "code",
   "execution_count": 9,
   "metadata": {},
   "outputs": [
    {
     "data": {
      "text/html": [
       "<div>\n",
       "<style scoped>\n",
       "    .dataframe tbody tr th:only-of-type {\n",
       "        vertical-align: middle;\n",
       "    }\n",
       "\n",
       "    .dataframe tbody tr th {\n",
       "        vertical-align: top;\n",
       "    }\n",
       "\n",
       "    .dataframe thead th {\n",
       "        text-align: right;\n",
       "    }\n",
       "</style>\n",
       "<table border=\"1\" class=\"dataframe\">\n",
       "  <thead>\n",
       "    <tr style=\"text-align: right;\">\n",
       "      <th></th>\n",
       "      <th>Unnamed: 0</th>\n",
       "      <th>case_id</th>\n",
       "      <th>Hospital_code</th>\n",
       "      <th>Hospital_type_code</th>\n",
       "      <th>City_Code_Hospital</th>\n",
       "      <th>Hospital_region_code</th>\n",
       "      <th>Available Extra Rooms in Hospital</th>\n",
       "      <th>Department</th>\n",
       "      <th>Ward_Type</th>\n",
       "      <th>Ward_Facility_Code</th>\n",
       "      <th>Bed Grade</th>\n",
       "      <th>patientid</th>\n",
       "      <th>City_Code_Patient</th>\n",
       "      <th>Type of Admission</th>\n",
       "      <th>Severity of Illness</th>\n",
       "      <th>Visitors with Patient</th>\n",
       "      <th>Age</th>\n",
       "      <th>Admission_Deposit</th>\n",
       "      <th>Stay</th>\n",
       "    </tr>\n",
       "  </thead>\n",
       "  <tbody>\n",
       "    <tr>\n",
       "      <th>0</th>\n",
       "      <td>119967</td>\n",
       "      <td>119968</td>\n",
       "      <td>27</td>\n",
       "      <td>a</td>\n",
       "      <td>7</td>\n",
       "      <td>Y</td>\n",
       "      <td>3</td>\n",
       "      <td>gynecology</td>\n",
       "      <td>R</td>\n",
       "      <td>C</td>\n",
       "      <td>2.0</td>\n",
       "      <td>11389</td>\n",
       "      <td>8.0</td>\n",
       "      <td>Emergency</td>\n",
       "      <td>Minor</td>\n",
       "      <td>2</td>\n",
       "      <td>11-20</td>\n",
       "      <td>5072.0</td>\n",
       "      <td>21-30</td>\n",
       "    </tr>\n",
       "    <tr>\n",
       "      <th>1</th>\n",
       "      <td>92433</td>\n",
       "      <td>92434</td>\n",
       "      <td>6</td>\n",
       "      <td>a</td>\n",
       "      <td>6</td>\n",
       "      <td>X</td>\n",
       "      <td>4</td>\n",
       "      <td>gynecology</td>\n",
       "      <td>Q</td>\n",
       "      <td>F</td>\n",
       "      <td>1.0</td>\n",
       "      <td>12522</td>\n",
       "      <td>2.0</td>\n",
       "      <td>Emergency</td>\n",
       "      <td>Extreme</td>\n",
       "      <td>4</td>\n",
       "      <td>31-40</td>\n",
       "      <td>3585.0</td>\n",
       "      <td>21-30</td>\n",
       "    </tr>\n",
       "    <tr>\n",
       "      <th>2</th>\n",
       "      <td>132258</td>\n",
       "      <td>132259</td>\n",
       "      <td>16</td>\n",
       "      <td>c</td>\n",
       "      <td>3</td>\n",
       "      <td>Z</td>\n",
       "      <td>4</td>\n",
       "      <td>gynecology</td>\n",
       "      <td>S</td>\n",
       "      <td>A</td>\n",
       "      <td>3.0</td>\n",
       "      <td>119556</td>\n",
       "      <td>8.0</td>\n",
       "      <td>Trauma</td>\n",
       "      <td>Moderate</td>\n",
       "      <td>6</td>\n",
       "      <td>71-80</td>\n",
       "      <td>4013.0</td>\n",
       "      <td>More than 100 Days</td>\n",
       "    </tr>\n",
       "    <tr>\n",
       "      <th>3</th>\n",
       "      <td>168439</td>\n",
       "      <td>168440</td>\n",
       "      <td>23</td>\n",
       "      <td>a</td>\n",
       "      <td>6</td>\n",
       "      <td>X</td>\n",
       "      <td>2</td>\n",
       "      <td>anesthesia</td>\n",
       "      <td>S</td>\n",
       "      <td>F</td>\n",
       "      <td>3.0</td>\n",
       "      <td>107177</td>\n",
       "      <td>8.0</td>\n",
       "      <td>Urgent</td>\n",
       "      <td>Extreme</td>\n",
       "      <td>2</td>\n",
       "      <td>71-80</td>\n",
       "      <td>5160.0</td>\n",
       "      <td>21-30</td>\n",
       "    </tr>\n",
       "    <tr>\n",
       "      <th>4</th>\n",
       "      <td>82100</td>\n",
       "      <td>82101</td>\n",
       "      <td>25</td>\n",
       "      <td>e</td>\n",
       "      <td>1</td>\n",
       "      <td>X</td>\n",
       "      <td>3</td>\n",
       "      <td>gynecology</td>\n",
       "      <td>R</td>\n",
       "      <td>E</td>\n",
       "      <td>3.0</td>\n",
       "      <td>64508</td>\n",
       "      <td>13.0</td>\n",
       "      <td>Trauma</td>\n",
       "      <td>Moderate</td>\n",
       "      <td>3</td>\n",
       "      <td>61-70</td>\n",
       "      <td>4099.0</td>\n",
       "      <td>21-30</td>\n",
       "    </tr>\n",
       "  </tbody>\n",
       "</table>\n",
       "</div>"
      ],
      "text/plain": [
       "   Unnamed: 0  case_id  Hospital_code Hospital_type_code  City_Code_Hospital  \\\n",
       "0      119967   119968             27                  a                   7   \n",
       "1       92433    92434              6                  a                   6   \n",
       "2      132258   132259             16                  c                   3   \n",
       "3      168439   168440             23                  a                   6   \n",
       "4       82100    82101             25                  e                   1   \n",
       "\n",
       "  Hospital_region_code  Available Extra Rooms in Hospital  Department  \\\n",
       "0                    Y                                  3  gynecology   \n",
       "1                    X                                  4  gynecology   \n",
       "2                    Z                                  4  gynecology   \n",
       "3                    X                                  2  anesthesia   \n",
       "4                    X                                  3  gynecology   \n",
       "\n",
       "  Ward_Type Ward_Facility_Code  Bed Grade  patientid  City_Code_Patient  \\\n",
       "0         R                  C        2.0      11389                8.0   \n",
       "1         Q                  F        1.0      12522                2.0   \n",
       "2         S                  A        3.0     119556                8.0   \n",
       "3         S                  F        3.0     107177                8.0   \n",
       "4         R                  E        3.0      64508               13.0   \n",
       "\n",
       "  Type of Admission Severity of Illness  Visitors with Patient    Age  \\\n",
       "0         Emergency               Minor                      2  11-20   \n",
       "1         Emergency             Extreme                      4  31-40   \n",
       "2            Trauma            Moderate                      6  71-80   \n",
       "3            Urgent             Extreme                      2  71-80   \n",
       "4            Trauma            Moderate                      3  61-70   \n",
       "\n",
       "   Admission_Deposit                Stay  \n",
       "0             5072.0               21-30  \n",
       "1             3585.0               21-30  \n",
       "2             4013.0  More than 100 Days  \n",
       "3             5160.0               21-30  \n",
       "4             4099.0               21-30  "
      ]
     },
     "execution_count": 9,
     "metadata": {},
     "output_type": "execute_result"
    }
   ],
   "source": [
    "hc.head()"
   ]
  },
  {
   "cell_type": "code",
   "execution_count": 10,
   "metadata": {},
   "outputs": [
    {
     "data": {
      "text/plain": [
       "array([27,  6, 16, 23, 25, 14,  7, 19, 30, 26,  2, 29, 11, 28, 15,  3, 17,\n",
       "       10, 22, 13, 31, 12, 21, 32,  9,  1,  8, 24,  5,  4, 18, 20],\n",
       "      dtype=int64)"
      ]
     },
     "execution_count": 10,
     "metadata": {},
     "output_type": "execute_result"
    }
   ],
   "source": [
    "## check how many hospitals is there in the data with .unique()\n",
    "hc['Hospital_code'].unique()"
   ]
  },
  {
   "cell_type": "code",
   "execution_count": 12,
   "metadata": {},
   "outputs": [
    {
     "data": {
      "text/plain": [
       "array(['Y', 'X', 'Z'], dtype=object)"
      ]
     },
     "execution_count": 12,
     "metadata": {},
     "output_type": "execute_result"
    }
   ],
   "source": [
    "## How many regions?\n",
    "hc['Hospital_region_code'].unique()"
   ]
  },
  {
   "cell_type": "markdown",
   "metadata": {},
   "source": [
    "There are 32 hospitals in 3 different regions in the data set."
   ]
  },
  {
   "cell_type": "code",
   "execution_count": 14,
   "metadata": {},
   "outputs": [
    {
     "data": {
      "text/plain": [
       "gynecology            40051\n",
       "anesthesia             4858\n",
       "radiotherapy           4589\n",
       "TB & Chest disease     1554\n",
       "surgery                 186\n",
       "Name: Department, dtype: int64"
      ]
     },
     "execution_count": 14,
     "metadata": {},
     "output_type": "execute_result"
    }
   ],
   "source": [
    "# count values in Department column\n",
    "hc['Department'].value_counts()"
   ]
  },
  {
   "cell_type": "markdown",
   "metadata": {},
   "source": [
    "Most patients are treated in the gynecology department, and 186 patients went under surgery."
   ]
  },
  {
   "cell_type": "code",
   "execution_count": 15,
   "metadata": {},
   "outputs": [
    {
     "data": {
      "text/plain": [
       "31-40     10300\n",
       "41-50     10067\n",
       "51-60      7861\n",
       "21-30      6664\n",
       "71-80      5730\n",
       "61-70      5357\n",
       "11-20      2783\n",
       "81-90      1269\n",
       "0-10        993\n",
       "91-100      214\n",
       "Name: Age, dtype: int64"
      ]
     },
     "execution_count": 15,
     "metadata": {},
     "output_type": "execute_result"
    }
   ],
   "source": [
    "hc['Age'].value_counts()"
   ]
  },
  {
   "cell_type": "markdown",
   "metadata": {},
   "source": [
    "Majority of the patients are adults in their 30s and 40s, and roughly around 1500 whose age is >80."
   ]
  },
  {
   "cell_type": "code",
   "execution_count": 16,
   "metadata": {},
   "outputs": [
    {
     "data": {
      "text/plain": [
       "Trauma       24614\n",
       "Emergency    18889\n",
       "Urgent        7735\n",
       "Name: Type of Admission, dtype: int64"
      ]
     },
     "execution_count": 16,
     "metadata": {},
     "output_type": "execute_result"
    }
   ],
   "source": [
    "# count values\n",
    "hc['Type of Admission'].value_counts()"
   ]
  },
  {
   "cell_type": "markdown",
   "metadata": {},
   "source": [
    "Half of the patients have trauma related issues. There are 7735 urgent issues recorded."
   ]
  },
  {
   "cell_type": "code",
   "execution_count": null,
   "metadata": {},
   "outputs": [],
   "source": [
    "# count values\n",
    "hc['Severity of Illness']"
   ]
  },
  {
   "cell_type": "markdown",
   "metadata": {},
   "source": [
    "Severity was mostly moderate.\n",
    "\n",
    "When a categorical column has too many values, it is difficult to tell the distribution using `value_counts()`. Instead, histograms provide effective visualization. Pandas has a method built in to easily generate histograms."
   ]
  },
  {
   "cell_type": "code",
   "execution_count": 17,
   "metadata": {},
   "outputs": [
    {
     "data": {
      "text/plain": [
       "<Axes: >"
      ]
     },
     "execution_count": 17,
     "metadata": {},
     "output_type": "execute_result"
    },
    {
     "data": {
      "image/png": "[encoded data removed]",
      "text/plain": [
       "<Figure size 640x480 with 1 Axes>"
      ]
     },
     "metadata": {},
     "output_type": "display_data"
    }
   ],
   "source": [
    "# Plot the histogram\n",
    "hc['Admission_Deposit'].hist()"
   ]
  },
  {
   "cell_type": "markdown",
   "metadata": {},
   "source": [
    "The amount of admission paid ranges between 2000 and 10000 with the median around 5000."
   ]
  },
  {
   "cell_type": "markdown",
   "metadata": {},
   "source": [
    "---"
   ]
  },
  {
   "cell_type": "markdown",
   "metadata": {},
   "source": [
    "## Convert Type to Categorical\n",
    "\n",
    "Categorical variables are coded as `object` if it is not specified."
   ]
  },
  {
   "cell_type": "code",
   "execution_count": 18,
   "metadata": {},
   "outputs": [
    {
     "data": {
      "text/plain": [
       "Unnamed: 0                             int64\n",
       "case_id                                int64\n",
       "Hospital_code                          int64\n",
       "Hospital_type_code                    object\n",
       "City_Code_Hospital                     int64\n",
       "Hospital_region_code                  object\n",
       "Available Extra Rooms in Hospital      int64\n",
       "Department                            object\n",
       "Ward_Type                             object\n",
       "Ward_Facility_Code                    object\n",
       "Bed Grade                            float64\n",
       "patientid                              int64\n",
       "City_Code_Patient                    float64\n",
       "Type of Admission                     object\n",
       "Severity of Illness                   object\n",
       "Visitors with Patient                  int64\n",
       "Age                                   object\n",
       "Admission_Deposit                    float64\n",
       "Stay                                  object\n",
       "dtype: object"
      ]
     },
     "execution_count": 18,
     "metadata": {},
     "output_type": "execute_result"
    }
   ],
   "source": [
    "hc.dtypes"
   ]
  },
  {
   "cell_type": "markdown",
   "metadata": {},
   "source": [
    "You may choose to convert it to `category`. For example, let's convert the __Type of Admission__ column and see how many observations are in each category:"
   ]
  },
  {
   "cell_type": "code",
   "execution_count": 19,
   "metadata": {},
   "outputs": [
    {
     "data": {
      "text/plain": [
       "Trauma       24614\n",
       "Emergency    18889\n",
       "Urgent        7735\n",
       "Name: Type of Admission, dtype: int64"
      ]
     },
     "execution_count": 19,
     "metadata": {},
     "output_type": "execute_result"
    }
   ],
   "source": [
    "hc['Type of Admission'].value_counts() "
   ]
  },
  {
   "cell_type": "code",
   "execution_count": 21,
   "metadata": {},
   "outputs": [
    {
     "data": {
      "text/plain": [
       "0        Emergency\n",
       "1        Emergency\n",
       "2           Trauma\n",
       "3           Urgent\n",
       "4           Trauma\n",
       "           ...    \n",
       "51233       Trauma\n",
       "51234    Emergency\n",
       "51235    Emergency\n",
       "51236       Trauma\n",
       "51237       Trauma\n",
       "Name: Type of Admission, Length: 51238, dtype: category\n",
       "Categories (3, object): ['Emergency', 'Trauma', 'Urgent']"
      ]
     },
     "execution_count": 21,
     "metadata": {},
     "output_type": "execute_result"
    }
   ],
   "source": [
    "# use astype(...) to convert to 'category'\n",
    "hc['Type of Admission'] = hc['Type of Admission'].astype('category')\n",
    "hc['Type of Admission']"
   ]
  },
  {
   "cell_type": "markdown",
   "metadata": {},
   "source": [
    "Now, let's convert it to categorical:"
   ]
  },
  {
   "cell_type": "markdown",
   "metadata": {},
   "source": [
    ">__Task 1__\n",
    ">\n",
    ">- Identify the categories in the __Hospital_type_code__ column and determine how many are in each category"
   ]
  },
  {
   "cell_type": "code",
   "execution_count": 22,
   "metadata": {},
   "outputs": [
    {
     "data": {
      "text/plain": [
       "Trauma       24614\n",
       "Emergency    18889\n",
       "Urgent        7735\n",
       "Name: Type of Admission, dtype: int64"
      ]
     },
     "execution_count": 22,
     "metadata": {},
     "output_type": "execute_result"
    }
   ],
   "source": [
    "hc['Type of Admission'].value_counts()"
   ]
  },
  {
   "cell_type": "markdown",
   "metadata": {},
   "source": [
    "---"
   ]
  },
  {
   "cell_type": "markdown",
   "metadata": {},
   "source": [
    "## Nominal Data Mapping"
   ]
  },
  {
   "cell_type": "markdown",
   "metadata": {
    "id": "7Nj4HBlZFh9A",
    "tags": []
   },
   "source": [
    "### Label Encoding\n",
    "\n",
    "we use `LabelEncoder` from the scikit-learn library to assign a distinct integer to each category. For example, we can map the __Type of Admission__ column to numeric values:"
   ]
  },
  {
   "cell_type": "code",
   "execution_count": 23,
   "metadata": {},
   "outputs": [
    {
     "data": {
      "text/plain": [
       "0    Emergency\n",
       "1    Emergency\n",
       "2       Trauma\n",
       "3       Urgent\n",
       "4       Trauma\n",
       "Name: Type of Admission, dtype: category\n",
       "Categories (3, object): ['Emergency', 'Trauma', 'Urgent']"
      ]
     },
     "execution_count": 23,
     "metadata": {},
     "output_type": "execute_result"
    }
   ],
   "source": [
    "hc['Type of Admission'].head()"
   ]
  },
  {
   "cell_type": "code",
   "execution_count": 26,
   "metadata": {
    "colab": {
     "base_uri": "https://localhost:8080/"
    },
    "id": "9z61kZlCFlqD",
    "outputId": "abaafac7-8ba7-424f-e280-09cb885dc2f6"
   },
   "outputs": [
    {
     "data": {
      "text/plain": [
       "array([0, 0, 1, 2, 1, 2, 1, 1, 0, 0])"
      ]
     },
     "execution_count": 26,
     "metadata": {},
     "output_type": "execute_result"
    }
   ],
   "source": [
    "from sklearn.preprocessing import LabelEncoder\n",
    "\n",
    "# Initiate the encoder\n",
    "enc = LabelEncoder()\n",
    "\n",
    "# Apply enc.fit_transform method\n",
    "enc.fit_transform(hc['Type of Admission']) [0:10]"
   ]
  },
  {
   "cell_type": "markdown",
   "metadata": {},
   "source": [
    "To convert the numbers back to string categories, we use the `inverse_transform()` method:"
   ]
  },
  {
   "cell_type": "code",
   "execution_count": 27,
   "metadata": {},
   "outputs": [
    {
     "data": {
      "text/plain": [
       "array(['Trauma', 'Trauma', 'Emergency', 'Urgent', 'Emergency', 'Trauma'],\n",
       "      dtype=object)"
      ]
     },
     "execution_count": 27,
     "metadata": {},
     "output_type": "execute_result"
    }
   ],
   "source": [
    "# Create a result vector that our ML analysis could yield\n",
    "result = np.array([1,1,0,2,0,1])\n",
    "\n",
    "# Transform back\n",
    "enc.inverse_transform(result)"
   ]
  },
  {
   "cell_type": "markdown",
   "metadata": {},
   "source": [
    ">__Task 2__\n",
    ">\n",
    ">- Encode the __Department__ to numbers using `LabelEncoder`\n",
    ">- Print the status corresponding to the label array `np.array([0,1,1,4,3,2])`, using `inverse_transform`"
   ]
  },
  {
   "cell_type": "code",
   "execution_count": 29,
   "metadata": {},
   "outputs": [
    {
     "data": {
      "text/plain": [
       "array(['TB & Chest disease', 'anesthesia', 'anesthesia', 'surgery',\n",
       "       'radiotherapy', 'gynecology'], dtype=object)"
      ]
     },
     "execution_count": 29,
     "metadata": {},
     "output_type": "execute_result"
    }
   ],
   "source": [
    "from sklearn.preprocessing import LabelEncoder\n",
    "# Initiate the encoder\n",
    "enc = LabelEncoder()\n",
    "\n",
    "# Apply enc.fit_transform method\n",
    "enc.fit_transform(hc['Department']) [0:10]\n",
    "\n",
    "# Create a result vector that our ML analysis could yield\n",
    "result = np.array([0,1,1,4,3,2])\n",
    "\n",
    "# Transform back\n",
    "enc.inverse_transform(result)"
   ]
  },
  {
   "cell_type": "markdown",
   "metadata": {},
   "source": [
    "There was a lil spiel about memory, and how to make a copy instead of pointing to the same spot in the existing memory"
   ]
  },
  {
   "cell_type": "markdown",
   "metadata": {
    "id": "vcNzeYecEsST"
   },
   "source": [
    "### One-Hot Encoding\n",
    "\n",
    "`OneHotEncoder` works similarly as `LabelEncoder` with subtle differences about how to initiate and transform. Instead of `pd.Series` object, __it takes `pd.DataFrame` as input__. So, you need to pass `df[['varName']]`."
   ]
  },
  {
   "cell_type": "markdown",
   "metadata": {},
   "source": [
    ">__Task 3__\n",
    ">\n",
    ">Convert the __Type of Admission__ column to one-hot vectors using `OneHotEncoder`"
   ]
  },
  {
   "cell_type": "code",
   "execution_count": 30,
   "metadata": {},
   "outputs": [
    {
     "data": {
      "text/html": [
       "<div>\n",
       "<style scoped>\n",
       "    .dataframe tbody tr th:only-of-type {\n",
       "        vertical-align: middle;\n",
       "    }\n",
       "\n",
       "    .dataframe tbody tr th {\n",
       "        vertical-align: top;\n",
       "    }\n",
       "\n",
       "    .dataframe thead th {\n",
       "        text-align: right;\n",
       "    }\n",
       "</style>\n",
       "<table border=\"1\" class=\"dataframe\">\n",
       "  <thead>\n",
       "    <tr style=\"text-align: right;\">\n",
       "      <th></th>\n",
       "      <th>Type of Admission</th>\n",
       "    </tr>\n",
       "  </thead>\n",
       "  <tbody>\n",
       "    <tr>\n",
       "      <th>0</th>\n",
       "      <td>Emergency</td>\n",
       "    </tr>\n",
       "    <tr>\n",
       "      <th>1</th>\n",
       "      <td>Emergency</td>\n",
       "    </tr>\n",
       "    <tr>\n",
       "      <th>2</th>\n",
       "      <td>Trauma</td>\n",
       "    </tr>\n",
       "    <tr>\n",
       "      <th>3</th>\n",
       "      <td>Urgent</td>\n",
       "    </tr>\n",
       "    <tr>\n",
       "      <th>4</th>\n",
       "      <td>Trauma</td>\n",
       "    </tr>\n",
       "  </tbody>\n",
       "</table>\n",
       "</div>"
      ],
      "text/plain": [
       "  Type of Admission\n",
       "0         Emergency\n",
       "1         Emergency\n",
       "2            Trauma\n",
       "3            Urgent\n",
       "4            Trauma"
      ]
     },
     "execution_count": 30,
     "metadata": {},
     "output_type": "execute_result"
    }
   ],
   "source": [
    "hc[['Type of Admission']].head()"
   ]
  },
  {
   "cell_type": "code",
   "execution_count": 33,
   "metadata": {
    "colab": {
     "base_uri": "https://localhost:8080/"
    },
    "id": "cmmm9A4CFuCW",
    "outputId": "10e0489f-c2f9-4f49-95bc-c346c358d82c"
   },
   "outputs": [
    {
     "data": {
      "text/plain": [
       "<51238x3 sparse matrix of type '<class 'numpy.float64'>'\n",
       "\twith 51238 stored elements in Compressed Sparse Row format>"
      ]
     },
     "execution_count": 33,
     "metadata": {},
     "output_type": "execute_result"
    }
   ],
   "source": [
    "from sklearn.preprocessing import OneHotEncoder\n",
    "\n",
    "# Initiate the encoder (use handle_unknown=\"ignore\" as option)\n",
    "enc = OneHotEncoder(handle_unknown='ignore')\n",
    "\n",
    "# fit_transform\n",
    "enc.fit_transform(hc[['Type of Admission']])\n",
    "\n",
    "#homie is very big, doesn't show"
   ]
  },
  {
   "cell_type": "code",
   "execution_count": null,
   "metadata": {},
   "outputs": [],
   "source": [
    "enc.fit_transform(hc[['Type of Admission']]).toarray()"
   ]
  },
  {
   "cell_type": "markdown",
   "metadata": {},
   "source": [
    "Similarly, we can also use the `inverse_transform()` method to revert the data."
   ]
  },
  {
   "cell_type": "code",
   "execution_count": 34,
   "metadata": {},
   "outputs": [
    {
     "data": {
      "text/plain": [
       "array([[1., 0., 0.],\n",
       "       [1., 0., 0.],\n",
       "       [0., 1., 0.],\n",
       "       ...,\n",
       "       [1., 0., 0.],\n",
       "       [0., 1., 0.],\n",
       "       [0., 1., 0.]])"
      ]
     },
     "execution_count": 34,
     "metadata": {},
     "output_type": "execute_result"
    }
   ],
   "source": []
  },
  {
   "cell_type": "markdown",
   "metadata": {},
   "source": [
    ">__Task 4__\n",
    ">\n",
    ">Decode the below vector back to categories using `inverse_transform`\n",
    ">\n",
    ">`np.array([[0,1,0], [0,1,0], [0,0,1], [1,0,0], [0,0,1]])`"
   ]
  },
  {
   "cell_type": "code",
   "execution_count": 35,
   "metadata": {},
   "outputs": [
    {
     "data": {
      "text/plain": [
       "array([['Trauma'],\n",
       "       ['Trauma'],\n",
       "       ['Urgent'],\n",
       "       ['Emergency'],\n",
       "       ['Urgent']], dtype=object)"
      ]
     },
     "execution_count": 35,
     "metadata": {},
     "output_type": "execute_result"
    }
   ],
   "source": [
    "# Create a result vector that our ML analysis could yield\n",
    "result = np.array([[0,1,0],\n",
    "                   [0,1,0],\n",
    "                   [0,0,1],\n",
    "                   [1,0,0],\n",
    "                   [0,0,1]])\n",
    "\n",
    "# Transform back\n",
    "enc.inverse_transform(result)"
   ]
  },
  {
   "cell_type": "markdown",
   "metadata": {},
   "source": [
    "### Dummy Variables\n",
    "\n",
    "Alternatively, we can use Pandas `get_dummies` to convert categorical variables to one-hot vectors."
   ]
  },
  {
   "cell_type": "markdown",
   "metadata": {},
   "source": [
    ">__Task 5__\n",
    ">\n",
    ">Convert the __Department__ column to one-hot vectors using `get_dummies`"
   ]
  },
  {
   "cell_type": "code",
   "execution_count": null,
   "metadata": {
    "colab": {
     "base_uri": "https://localhost:8080/",
     "height": 540
    },
    "id": "ve3q1Sn6v5lv",
    "outputId": "a5c22524-255e-4e82-9ea1-e45e6cc1cc5e"
   },
   "outputs": [],
   "source": [
    "from pandas import get_dummies\n",
    "\n",
    "..."
   ]
  },
  {
   "cell_type": "markdown",
   "metadata": {},
   "source": [
    "---"
   ]
  },
  {
   "cell_type": "markdown",
   "metadata": {
    "id": "Wq1GSEyM13sD"
   },
   "source": [
    "## Ordinal Data Mapping"
   ]
  },
  {
   "cell_type": "markdown",
   "metadata": {},
   "source": [
    ">__Task 6__\n",
    ">\n",
    ">Use a dictionary to convert ordinal variables to numbers in the __Severity of Illness__ column\n",
    ">\n",
    ">- Create a dictionary that maps \"Extreme\" to 2, \"Moderate\" to 1 and \"Minor\" to 0\n",
    ">- Map the categories to numeric labels using `replace(dict)`"
   ]
  },
  {
   "cell_type": "code",
   "execution_count": 27,
   "metadata": {
    "colab": {
     "base_uri": "https://localhost:8080/"
    },
    "id": "UMGHumjL2CjW",
    "outputId": "35f48091-89b7-4daa-ca4c-2c733e6efe31"
   },
   "outputs": [
    {
     "data": {
      "text/plain": [
       "array(['Minor', 'Extreme', 'Moderate'], dtype=object)"
      ]
     },
     "execution_count": 27,
     "metadata": {},
     "output_type": "execute_result"
    }
   ],
   "source": [
    "hc['Severity of Illness'].unique()"
   ]
  },
  {
   "cell_type": "code",
   "execution_count": 28,
   "metadata": {},
   "outputs": [],
   "source": [
    "mapDict = {'Extreme': 2,\n",
    "           'Moderate': 1,\n",
    "           'Minor': 0}"
   ]
  },
  {
   "cell_type": "code",
   "execution_count": null,
   "metadata": {},
   "outputs": [],
   "source": [
    "# use replace to map\n",
    "hc['Severity of Illness_numeric'] = ...\n",
    "hc['Severity of Illness_numeric']"
   ]
  },
  {
   "cell_type": "markdown",
   "metadata": {},
   "source": [
    "Now, let's assume we want to construct the original data back from the numeric variables."
   ]
  },
  {
   "cell_type": "markdown",
   "metadata": {},
   "source": [
    ">__Task 7__\n",
    ">\n",
    ">- Reverse the map dictionary using a `for` loop\n",
    ">- Apply the same procedure using this reverse map"
   ]
  },
  {
   "cell_type": "code",
   "execution_count": 30,
   "metadata": {},
   "outputs": [],
   "source": [
    "# Reversed map dictionary\n",
    "mapDict_inv = {... for ... in ...}"
   ]
  },
  {
   "cell_type": "code",
   "execution_count": null,
   "metadata": {
    "scrolled": true
   },
   "outputs": [],
   "source": [
    "hc['Severity of Illness_numeric']..."
   ]
  },
  {
   "cell_type": "markdown",
   "metadata": {},
   "source": [
    "An alternative is to use the `map()` method:"
   ]
  },
  {
   "cell_type": "markdown",
   "metadata": {},
   "source": [
    "---"
   ]
  },
  {
   "cell_type": "markdown",
   "metadata": {},
   "source": [
    "## Convert Numeric to Categorical\n",
    "\n",
    "Sometimes, we have numeric variables that would be more meaningful if they were put into categories using some thresholds. For example, the __Admission_Deposit__ column is a continuous numeric variable for the amount paid to the hospital."
   ]
  },
  {
   "cell_type": "code",
   "execution_count": null,
   "metadata": {},
   "outputs": [],
   "source": [
    "hc['Admission_Deposit'].hist()"
   ]
  },
  {
   "cell_type": "markdown",
   "metadata": {},
   "source": [
    "We will now create three categories:\n",
    "- 0 to 3000: low, \n",
    "- 3001 to 7000: moderate\n",
    "- 7001 and above (maximum value) : expensive\n",
    "\n",
    "To this end, we will \n",
    "\n",
    "1. Create a list of the thresholds or `buckets`\n",
    "    - Find the maximum value using `max()`\n",
    "2. Convert to a categorical variable using `pd.cut()`\n",
    "2. Convert the categorical variable to one-hot vectors using `pd.get_dummies()`"
   ]
  },
  {
   "cell_type": "code",
   "execution_count": null,
   "metadata": {},
   "outputs": [],
   "source": [
    "maxVal  = ...\n",
    "buckets = [0,3000,7000,maxVal]\n",
    "\n",
    "hc['Admission_Deposit_categ'] = ...\n",
    "hc['Admission_Deposit_categ']"
   ]
  },
  {
   "cell_type": "code",
   "execution_count": 36,
   "metadata": {},
   "outputs": [
    {
     "data": {
      "text/html": [
       "<div>\n",
       "<style scoped>\n",
       "    .dataframe tbody tr th:only-of-type {\n",
       "        vertical-align: middle;\n",
       "    }\n",
       "\n",
       "    .dataframe tbody tr th {\n",
       "        vertical-align: top;\n",
       "    }\n",
       "\n",
       "    .dataframe thead th {\n",
       "        text-align: right;\n",
       "    }\n",
       "</style>\n",
       "<table border=\"1\" class=\"dataframe\">\n",
       "  <thead>\n",
       "    <tr style=\"text-align: right;\">\n",
       "      <th></th>\n",
       "      <th>(0.0, 3000.0]</th>\n",
       "      <th>(3000.0, 7000.0]</th>\n",
       "      <th>(7000.0, 10842.0]</th>\n",
       "    </tr>\n",
       "  </thead>\n",
       "  <tbody>\n",
       "    <tr>\n",
       "      <th>0</th>\n",
       "      <td>0</td>\n",
       "      <td>1</td>\n",
       "      <td>0</td>\n",
       "    </tr>\n",
       "    <tr>\n",
       "      <th>1</th>\n",
       "      <td>0</td>\n",
       "      <td>1</td>\n",
       "      <td>0</td>\n",
       "    </tr>\n",
       "    <tr>\n",
       "      <th>2</th>\n",
       "      <td>0</td>\n",
       "      <td>1</td>\n",
       "      <td>0</td>\n",
       "    </tr>\n",
       "    <tr>\n",
       "      <th>3</th>\n",
       "      <td>0</td>\n",
       "      <td>1</td>\n",
       "      <td>0</td>\n",
       "    </tr>\n",
       "    <tr>\n",
       "      <th>4</th>\n",
       "      <td>0</td>\n",
       "      <td>1</td>\n",
       "      <td>0</td>\n",
       "    </tr>\n",
       "    <tr>\n",
       "      <th>...</th>\n",
       "      <td>...</td>\n",
       "      <td>...</td>\n",
       "      <td>...</td>\n",
       "    </tr>\n",
       "    <tr>\n",
       "      <th>51233</th>\n",
       "      <td>0</td>\n",
       "      <td>1</td>\n",
       "      <td>0</td>\n",
       "    </tr>\n",
       "    <tr>\n",
       "      <th>51234</th>\n",
       "      <td>0</td>\n",
       "      <td>1</td>\n",
       "      <td>0</td>\n",
       "    </tr>\n",
       "    <tr>\n",
       "      <th>51235</th>\n",
       "      <td>0</td>\n",
       "      <td>1</td>\n",
       "      <td>0</td>\n",
       "    </tr>\n",
       "    <tr>\n",
       "      <th>51236</th>\n",
       "      <td>0</td>\n",
       "      <td>1</td>\n",
       "      <td>0</td>\n",
       "    </tr>\n",
       "    <tr>\n",
       "      <th>51237</th>\n",
       "      <td>0</td>\n",
       "      <td>1</td>\n",
       "      <td>0</td>\n",
       "    </tr>\n",
       "  </tbody>\n",
       "</table>\n",
       "<p>51238 rows × 3 columns</p>\n",
       "</div>"
      ],
      "text/plain": [
       "       (0.0, 3000.0]  (3000.0, 7000.0]  (7000.0, 10842.0]\n",
       "0                  0                 1                  0\n",
       "1                  0                 1                  0\n",
       "2                  0                 1                  0\n",
       "3                  0                 1                  0\n",
       "4                  0                 1                  0\n",
       "...              ...               ...                ...\n",
       "51233              0                 1                  0\n",
       "51234              0                 1                  0\n",
       "51235              0                 1                  0\n",
       "51236              0                 1                  0\n",
       "51237              0                 1                  0\n",
       "\n",
       "[51238 rows x 3 columns]"
      ]
     },
     "execution_count": 36,
     "metadata": {},
     "output_type": "execute_result"
    }
   ],
   "source": [
    "# use get_dummies()\n",
    "..."
   ]
  },
  {
   "cell_type": "markdown",
   "metadata": {},
   "source": [
    "# Handling Outliers"
   ]
  },
  {
   "cell_type": "code",
   "execution_count": 1,
   "metadata": {
    "id": "1Wk4AsG_3l8c",
    "tags": []
   },
   "outputs": [],
   "source": [
    "import pandas as pd\n",
    "import numpy as np\n",
    "\n",
    "import warnings\n",
    "warnings.filterwarnings(\"ignore\")"
   ]
  },
  {
   "cell_type": "markdown",
   "metadata": {
    "id": "lvzjR1BP3pa6"
   },
   "source": [
    "Let's import and explore the data file \"healthcare_m5.csv\":"
   ]
  },
  {
   "cell_type": "code",
   "execution_count": null,
   "metadata": {
    "colab": {
     "base_uri": "https://localhost:8080/"
    },
    "id": "R5E2slTh3opK",
    "outputId": "7bd60abf-dee0-470d-8ab7-d57151ad0f22"
   },
   "outputs": [],
   "source": [
    "hc_df = pd.read_csv('healthcare.csv')\n",
    "hc_df.head()"
   ]
  },
  {
   "cell_type": "markdown",
   "metadata": {},
   "source": [
    "## Outliers"
   ]
  },
  {
   "cell_type": "markdown",
   "metadata": {},
   "source": [
    "In pandas, we can locate the outliers as below:\n",
    "\n",
    "`x = df['colName']`\n",
    "\n",
    "`mean = x.mean()`\n",
    "\n",
    "`sd = x.std()`\n",
    "\n",
    "`outliers = (x < mean-3*sd) | (x > mean+3*sd)`\n",
    "\n",
    "Once we located the outliers, we can filter the data as:\n",
    "\n",
    "`pd[outliers]`"
   ]
  },
  {
   "cell_type": "markdown",
   "metadata": {},
   "source": [
    "Let's first check the mean, standard deviation, min, and max of the __Admission_Deposit__ column. Notice that the max is quite beyond the 75% percentile."
   ]
  },
  {
   "cell_type": "code",
   "execution_count": null,
   "metadata": {},
   "outputs": [],
   "source": [
    "hc_df['Admission_Deposit'].describe()"
   ]
  },
  {
   "cell_type": "markdown",
   "metadata": {},
   "source": [
    ">__Task 1__\n",
    ">\n",
    ">Filter the data to display the rows where values are outliers (3 standard deviations larger than the mean) in the __Admission_Deposit__ column\n",
    ">\n",
    ">- Find the the upper bound, mean, and lower bound of the column\n",
    ">- Create a mask for values less than `mean-3*sd` and greater than `mean+3*sd`. What are the lower and upper bounds here?\n",
    ">- Use the mask to filter the rows. How many outliers do you find using this rule?"
   ]
  },
  {
   "cell_type": "code",
   "execution_count": 4,
   "metadata": {},
   "outputs": [
    {
     "name": "stdout",
     "output_type": "stream",
     "text": [
      "1500.5503032542756 4889.439361411452 8278.328419568628\n"
     ]
    }
   ],
   "source": [
    "# Find the upper bound, mean, and lower bound\n",
    "admission_series = hc_df['Admission_Deposit']\n",
    "mean = ...\n",
    "sd   = ...\n",
    "\n",
    "print(..., ..., ...)"
   ]
  },
  {
   "cell_type": "code",
   "execution_count": null,
   "metadata": {},
   "outputs": [],
   "source": [
    "# Create a mask and filter the rows\n",
    "outliers = ...\n",
    "print(...)\n",
    "hc_df[outliers]"
   ]
  },
  {
   "cell_type": "markdown",
   "metadata": {},
   "source": [
    "Note that the data set has many outliers that have a high admission deposit. Check the distribution using a histogram. Do you think `mean+/-3*sd` are good thresholds here?"
   ]
  },
  {
   "cell_type": "code",
   "execution_count": null,
   "metadata": {},
   "outputs": [],
   "source": [
    "hc_df['Admission_Deposit'].hist(bins = 100)"
   ]
  },
  {
   "cell_type": "markdown",
   "metadata": {},
   "source": [
    ">__Task 2__\n",
    ">\n",
    ">Suppose the admission deposit is capped by 20,000. Replace outliers in this case with the cap 20,000."
   ]
  },
  {
   "cell_type": "code",
   "execution_count": null,
   "metadata": {},
   "outputs": [],
   "source": [
    "outliers = (hc_df['Admission_Deposit'] ...)\n",
    "hc_df['Admission_Deposit'][outliers]= ...\n",
    "hc_df['Admission_Deposit'].describe()"
   ]
  },
  {
   "cell_type": "markdown",
   "metadata": {},
   "source": [
    "---"
   ]
  },
  {
   "cell_type": "markdown",
   "metadata": {},
   "source": [
    "## Partitioning"
   ]
  },
  {
   "cell_type": "markdown",
   "metadata": {},
   "source": [
    ">__Task 3__\n",
    ">\n",
    ">Split the data set into 70% training and 30% test sets with row shuffling\n",
    ">\n",
    ">- Your code must split the output and input:\n",
    ">    - Output is the __Stay Code__ column, which coded how long the patient stays in the hospital\n",
    ">    - Input columns are numerical columns: __Hospital_code__, __Available Extra Rooms in Hospital__, __Bed Grade__, __Admission_Deposit__, __Type of Admission Code__, __Age Code__, __Severity of Illness Code__\n",
    ">- Use `random_state=101` for future replication purpose\n",
    ">- Your code must produce 4 subsets:\n",
    ">    - `X_train` and `X_test` must have 7 columns\n",
    ">    - `y_train` and `y_test` must have 1 column"
   ]
  },
  {
   "cell_type": "code",
   "execution_count": 8,
   "metadata": {
    "colab": {
     "base_uri": "https://localhost:8080/"
    },
    "id": "Oa7Fueja5cKn",
    "outputId": "baec3778-d07d-4602-b8fb-41a4b0e07f90"
   },
   "outputs": [
    {
     "name": "stdout",
     "output_type": "stream",
     "text": [
      "(35866,)\n",
      "(15372,)\n",
      "(35866, 7)\n",
      "(15372, 7)\n"
     ]
    }
   ],
   "source": [
    "from sklearn.model_selection import train_test_split\n",
    "\n",
    "input_col = ['Hospital_code', 'Available Extra Rooms in Hospital', 'Bed Grade', 'Admission_Deposit', 'Type of Admission Code', 'Age Code', 'Severity of Illness Code']\n",
    "X_train, X_test, y_train, y_test = train_test_split(hc_df['Stay Code'], hc_df[input_col], test_size=0.3, shuffle=True, random_state=101)\n",
    "\n",
    "print(X_train.shape)\n",
    "print(X_test.shape)\n",
    "print(y_train.shape)\n",
    "print(y_test.shape)"
   ]
  },
  {
   "cell_type": "markdown",
   "metadata": {},
   "source": [
    "---"
   ]
  },
  {
   "cell_type": "markdown",
   "metadata": {},
   "source": [
    "## Feature Scaling"
   ]
  },
  {
   "cell_type": "markdown",
   "metadata": {},
   "source": [
    "### MinMax Normalization"
   ]
  },
  {
   "cell_type": "markdown",
   "metadata": {},
   "source": [
    ">__Task 4__\n",
    ">\n",
    ">Apply `MinMaxScaler` to the data set\n",
    ">\n",
    ">- Initiate a `MinMaxScaler` object\n",
    ">- Apply the scaler to fit all these columns: __Hospital_code__, __Available Extra Rooms in Hospital__, __Bed Grade__, __Admission_Deposit__, __Type of Admission Code__, __Age Code__, __Severity of Illness Code__, __Stay Code__\n",
    ">- Repeat the same to scale the data between -1 and 1"
   ]
  },
  {
   "cell_type": "code",
   "execution_count": 9,
   "metadata": {
    "colab": {
     "base_uri": "https://localhost:8080/"
    },
    "id": "Eis3IIrEmaS2",
    "outputId": "21f6d071-bced-464d-da9c-c524d18eaa8d"
   },
   "outputs": [
    {
     "name": "stdout",
     "output_type": "stream",
     "text": [
      "[[0.83870968 0.21428571 0.33333333 ... 0.11111111 0.5        0.2       ]\n",
      " [0.16129032 0.28571429 0.         ... 0.33333333 0.         0.2       ]\n",
      " [0.48387097 0.28571429 0.66666667 ... 0.77777778 1.         1.        ]\n",
      " ...\n",
      " [0.25806452 0.21428571 0.66666667 ... 0.55555556 1.         1.        ]\n",
      " [0.70967742 0.28571429 1.         ... 0.22222222 0.5        0.2       ]\n",
      " [0.03225806 0.14285714 0.33333333 ... 0.55555556 0.         0.3       ]]\n"
     ]
    }
   ],
   "source": [
    "from sklearn.preprocessing import MinMaxScaler\n",
    "\n",
    "minmax_scaler = MinMaxScaler()\n",
    "cols_scale = ['Hospital_code', 'Available Extra Rooms in Hospital', 'Bed Grade', 'Admission_Deposit', 'Type of Admission Code', 'Age Code', 'Severity of Illness Code','Stay Code']\n",
    "hc_scaled = minmax_scaler.fit_transform(hc_df[cols_scale])\n",
    "\n",
    "print(hc_scaled)"
   ]
  },
  {
   "cell_type": "code",
   "execution_count": 10,
   "metadata": {},
   "outputs": [
    {
     "name": "stdout",
     "output_type": "stream",
     "text": [
      "[[ 0.67741935 -0.57142857 -0.33333333 ... -0.77777778  0.\n",
      "  -0.6       ]\n",
      " [-0.67741935 -0.42857143 -1.         ... -0.33333333 -1.\n",
      "  -0.6       ]\n",
      " [-0.03225806 -0.42857143  0.33333333 ...  0.55555556  1.\n",
      "   1.        ]\n",
      " ...\n",
      " [-0.48387097 -0.57142857  0.33333333 ...  0.11111111  1.\n",
      "   1.        ]\n",
      " [ 0.41935484 -0.42857143  1.         ... -0.55555556  0.\n",
      "  -0.6       ]\n",
      " [-0.93548387 -0.71428571 -0.33333333 ...  0.11111111 -1.\n",
      "  -0.4       ]]\n"
     ]
    }
   ],
   "source": [
    "# Scale the data between -1 and 1\n",
    "minmax_scaler = MinMaxScaler((-1,1))\n",
    "\n",
    "hc_scaled = minmax_scaler.fit_transform(hc_df[cols_scale])\n",
    "\n",
    "print(hc_scaled)"
   ]
  },
  {
   "cell_type": "markdown",
   "metadata": {},
   "source": [
    "What is the problem with the above scaling process? Applying a scaler to categorical coded variables may not be needed, depending on the encoding method and machine learning model. Moreover, the outcome variable is the target to predict and should not be scaled. Let's complete the next task."
   ]
  },
  {
   "cell_type": "markdown",
   "metadata": {},
   "source": [
    ">__Task 5__\n",
    ">\n",
    ">Apply `MinMaxScaler` to specific columns\n",
    ">\n",
    ">- Initiate a `MinMaxScaler` object\n",
    ">- Split the data into input and output:\n",
    ">    - Input is __Admission_Deposit__ and __Available Extra Rooms in Hospital__\n",
    ">    - Output is __Stay Code__\n",
    ">- Apply the scaler to only input columns and scale between 0 and 1"
   ]
  },
  {
   "cell_type": "code",
   "execution_count": 11,
   "metadata": {},
   "outputs": [
    {
     "name": "stdout",
     "output_type": "stream",
     "text": [
      "[[0.21428571 0.17928418]\n",
      " [0.28571429 0.09753148]\n",
      " [0.28571429 0.12106218]\n",
      " ...\n",
      " [0.21428571 0.10258948]\n",
      " [0.28571429 0.14618726]\n",
      " [0.14285714 0.12765957]]\n"
     ]
    }
   ],
   "source": [
    "minmax_scaler = MinMaxScaler()\n",
    "cols_scale = ['Available Extra Rooms in Hospital','Admission_Deposit']\n",
    "X, y = hc_df[cols_scale], hc_df['Stay Code']\n",
    "X_scaled = minmax_scaler.fit_transform(X)\n",
    "print(X_scaled)"
   ]
  },
  {
   "cell_type": "markdown",
   "metadata": {
    "id": "o4Q0lLk43fl7"
   },
   "source": [
    "### Standardization"
   ]
  },
  {
   "cell_type": "markdown",
   "metadata": {},
   "source": [
    ">__Task 6__\n",
    ">\n",
    ">Apply `StandardScaler` to the data set\n",
    ">\n",
    ">- Initiate a `StandardScaler` object\n",
    ">- Split the data into input and output:\n",
    ">    - Input is __Admission_Deposit__ and __Available Extra Rooms in Hospital__\n",
    ">    - Output is __Stay Code__\n",
    ">- Apply the scaler to only input columns"
   ]
  },
  {
   "cell_type": "code",
   "execution_count": 12,
   "metadata": {},
   "outputs": [
    {
     "name": "stdout",
     "output_type": "stream",
     "text": [
      "[[-0.17039245  0.16506863]\n",
      " [ 0.68689037 -1.17146885]\n",
      " [ 0.68689037 -0.78677616]\n",
      " ...\n",
      " [-0.17039245 -1.0887779 ]\n",
      " [ 0.68689037 -0.37601783]\n",
      " [-1.02767527 -0.67891839]]\n"
     ]
    }
   ],
   "source": [
    "from sklearn.preprocessing import StandardScaler\n",
    "\n",
    "standard_scaler = StandardScaler()\n",
    "cols_scale = ['Available Extra Rooms in Hospital','Admission_Deposit']\n",
    "X, y = hc_df[cols_scale], hc_df['Stay Code']\n",
    "X_scaled = standard_scaler.fit_transform(X)\n",
    "\n",
    "print(X_scaled)"
   ]
  },
  {
   "cell_type": "code",
   "execution_count": 1,
   "metadata": {},
   "outputs": [],
   "source": [
    "import numpy as np\n",
    "import pandas as pd\n",
    "\n",
    "from sklearn import preprocessing \n",
    "import matplotlib.pyplot as plt\n",
    "import seaborn as sns\n",
    "\n",
    "%matplotlib inline"
   ]
  },
  {
   "cell_type": "markdown",
   "metadata": {},
   "source": [
    "Let's import and explore the data file \"heart_failure.csv\":"
   ]
  },
  {
   "cell_type": "code",
   "execution_count": 5,
   "metadata": {},
   "outputs": [
    {
     "data": {
      "text/html": [
       "<div>\n",
       "<style scoped>\n",
       "    .dataframe tbody tr th:only-of-type {\n",
       "        vertical-align: middle;\n",
       "    }\n",
       "\n",
       "    .dataframe tbody tr th {\n",
       "        vertical-align: top;\n",
       "    }\n",
       "\n",
       "    .dataframe thead th {\n",
       "        text-align: right;\n",
       "    }\n",
       "</style>\n",
       "<table border=\"1\" class=\"dataframe\">\n",
       "  <thead>\n",
       "    <tr style=\"text-align: right;\">\n",
       "      <th></th>\n",
       "      <th>age</th>\n",
       "      <th>anaemia</th>\n",
       "      <th>creatinine_phosphokinase</th>\n",
       "      <th>diabetes</th>\n",
       "      <th>ejection_fraction</th>\n",
       "      <th>high_blood_pressure</th>\n",
       "      <th>platelets</th>\n",
       "      <th>serum_creatinine</th>\n",
       "      <th>serum_sodium</th>\n",
       "      <th>sex</th>\n",
       "      <th>smoking</th>\n",
       "      <th>time</th>\n",
       "      <th>DEATH_EVENT</th>\n",
       "    </tr>\n",
       "  </thead>\n",
       "  <tbody>\n",
       "    <tr>\n",
       "      <th>0</th>\n",
       "      <td>75.0</td>\n",
       "      <td>0</td>\n",
       "      <td>582</td>\n",
       "      <td>0</td>\n",
       "      <td>20</td>\n",
       "      <td>1</td>\n",
       "      <td>265000.00</td>\n",
       "      <td>1.9</td>\n",
       "      <td>130</td>\n",
       "      <td>1</td>\n",
       "      <td>0</td>\n",
       "      <td>4</td>\n",
       "      <td>1</td>\n",
       "    </tr>\n",
       "    <tr>\n",
       "      <th>1</th>\n",
       "      <td>55.0</td>\n",
       "      <td>0</td>\n",
       "      <td>7861</td>\n",
       "      <td>0</td>\n",
       "      <td>38</td>\n",
       "      <td>0</td>\n",
       "      <td>263358.03</td>\n",
       "      <td>1.1</td>\n",
       "      <td>136</td>\n",
       "      <td>1</td>\n",
       "      <td>0</td>\n",
       "      <td>6</td>\n",
       "      <td>1</td>\n",
       "    </tr>\n",
       "    <tr>\n",
       "      <th>2</th>\n",
       "      <td>65.0</td>\n",
       "      <td>0</td>\n",
       "      <td>146</td>\n",
       "      <td>0</td>\n",
       "      <td>20</td>\n",
       "      <td>0</td>\n",
       "      <td>162000.00</td>\n",
       "      <td>1.3</td>\n",
       "      <td>129</td>\n",
       "      <td>1</td>\n",
       "      <td>1</td>\n",
       "      <td>7</td>\n",
       "      <td>1</td>\n",
       "    </tr>\n",
       "    <tr>\n",
       "      <th>3</th>\n",
       "      <td>50.0</td>\n",
       "      <td>1</td>\n",
       "      <td>111</td>\n",
       "      <td>0</td>\n",
       "      <td>20</td>\n",
       "      <td>0</td>\n",
       "      <td>210000.00</td>\n",
       "      <td>1.9</td>\n",
       "      <td>137</td>\n",
       "      <td>1</td>\n",
       "      <td>0</td>\n",
       "      <td>7</td>\n",
       "      <td>1</td>\n",
       "    </tr>\n",
       "    <tr>\n",
       "      <th>4</th>\n",
       "      <td>65.0</td>\n",
       "      <td>1</td>\n",
       "      <td>160</td>\n",
       "      <td>1</td>\n",
       "      <td>20</td>\n",
       "      <td>0</td>\n",
       "      <td>327000.00</td>\n",
       "      <td>2.7</td>\n",
       "      <td>116</td>\n",
       "      <td>0</td>\n",
       "      <td>0</td>\n",
       "      <td>8</td>\n",
       "      <td>1</td>\n",
       "    </tr>\n",
       "  </tbody>\n",
       "</table>\n",
       "</div>"
      ],
      "text/plain": [
       "    age  anaemia  creatinine_phosphokinase  diabetes  ejection_fraction  \\\n",
       "0  75.0        0                       582         0                 20   \n",
       "1  55.0        0                      7861         0                 38   \n",
       "2  65.0        0                       146         0                 20   \n",
       "3  50.0        1                       111         0                 20   \n",
       "4  65.0        1                       160         1                 20   \n",
       "\n",
       "   high_blood_pressure  platelets  serum_creatinine  serum_sodium  sex  \\\n",
       "0                    1  265000.00               1.9           130    1   \n",
       "1                    0  263358.03               1.1           136    1   \n",
       "2                    0  162000.00               1.3           129    1   \n",
       "3                    0  210000.00               1.9           137    1   \n",
       "4                    0  327000.00               2.7           116    0   \n",
       "\n",
       "   smoking  time  DEATH_EVENT  \n",
       "0        0     4            1  \n",
       "1        0     6            1  \n",
       "2        1     7            1  \n",
       "3        0     7            1  \n",
       "4        0     8            1  "
      ]
     },
     "execution_count": 5,
     "metadata": {},
     "output_type": "execute_result"
    }
   ],
   "source": [
    "heart = pd.read_csv('heart_failure.csv')\n",
    "heart.head()"
   ]
  }
 ],
 "metadata": {
  "colab": {
   "collapsed_sections": [],
   "name": "2.d.ipynb",
   "provenance": []
  },
  "kernelspec": {
   "display_name": "Python 3 (ipykernel)",
   "language": "python",
   "name": "python3"
  },
  "language_info": {
   "codemirror_mode": {
    "name": "ipython",
    "version": 3
   },
   "file_extension": ".py",
   "mimetype": "text/x-python",
   "name": "python",
   "nbconvert_exporter": "python",
   "pygments_lexer": "ipython3",
   "version": "3.10.9"
  }
 },
 "nbformat": 4,
 "nbformat_minor": 4
}
