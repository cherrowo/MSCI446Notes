{
 "cells": [
  {
   "cell_type": "markdown",
   "metadata": {},
   "source": [
    "<h2>4.1 Categorical Methods</h2>"
   ]
  },
  {
   "cell_type": "markdown",
   "metadata": {},
   "source": [
    "Categorical data (feature/variable) describes the family of observations\n",
    "\n",
    "ex// colour feature/variable has values red, green, blue\n",
    "each distinct colour is a category\n",
    "\n",
    "computationally numbers are easier to use than strings, and ML algos exclusively use numbers."
   ]
  },
  {
   "cell_type": "markdown",
   "metadata": {},
   "source": [
    "<h3>Find Categorical Values</h3>\n",
    "To extract distinct values from series or df, use functions such as unique() or value_counts()"
   ]
  },
  {
   "cell_type": "code",
   "execution_count": 1,
   "metadata": {},
   "outputs": [
    {
     "data": {
      "text/plain": [
       "['red',\n",
       " 'green',\n",
       " 'blue',\n",
       " 'blue',\n",
       " 'green',\n",
       " 'red',\n",
       " 'green',\n",
       " 'blue',\n",
       " 'blue',\n",
       " 'green']"
      ]
     },
     "execution_count": 1,
     "metadata": {},
     "output_type": "execute_result"
    }
   ],
   "source": [
    "import pandas as pd \n",
    "import numpy as np  \n",
    "\n",
    "colour = (['red', 'green', 'blue', 'blue', 'green']*2) \n",
    "colour"
   ]
  }
 ],
 "metadata": {
  "kernelspec": {
   "display_name": "env1",
   "language": "python",
   "name": "python3"
  },
  "language_info": {
   "codemirror_mode": {
    "name": "ipython",
    "version": 3
   },
   "file_extension": ".py",
   "mimetype": "text/x-python",
   "name": "python",
   "nbconvert_exporter": "python",
   "pygments_lexer": "ipython3",
   "version": "3.10.9"
  }
 },
 "nbformat": 4,
 "nbformat_minor": 2
}
